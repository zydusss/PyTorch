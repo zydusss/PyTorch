{
  "nbformat": 4,
  "nbformat_minor": 0,
  "metadata": {
    "colab": {
      "name": "Regression using PyTorch Vs Sklearn.ipynb",
      "provenance": [],
      "collapsed_sections": [],
      "authorship_tag": "ABX9TyNqtFVS9/wuP+tqtkhaZkJu",
      "include_colab_link": true
    },
    "kernelspec": {
      "name": "python3",
      "display_name": "Python 3"
    },
    "language_info": {
      "name": "python"
    }
  },
  "cells": [
    {
      "cell_type": "markdown",
      "metadata": {
        "id": "view-in-github",
        "colab_type": "text"
      },
      "source": [
        "<a href=\"https://colab.research.google.com/github/zydusss/PyTorch/blob/main/Regression_using_PyTorch_Vs_Sklearn.ipynb\" target=\"_parent\"><img src=\"https://colab.research.google.com/assets/colab-badge.svg\" alt=\"Open In Colab\"/></a>"
      ]
    },
    {
      "cell_type": "code",
      "execution_count": 47,
      "metadata": {
        "id": "AzuvmsBTIznF"
      },
      "outputs": [],
      "source": [
        "import torch.nn as nn\n",
        "import numpy as np\n",
        "from sklearn.linear_model import LinearRegression\n",
        "import matplotlib.pyplot as plt"
      ]
    },
    {
      "cell_type": "markdown",
      "source": [
        "Create Dataset"
      ],
      "metadata": {
        "id": "vlxlE084sKJa"
      }
    },
    {
      "cell_type": "code",
      "source": [
        "N = 20\n",
        "\n",
        "# random data (-5,5)\n",
        "X = np.random.random(N)*10 - 5\n",
        "\n",
        "Y = 0.5*X - 1 + np.random.randn(N)\n",
        "\n",
        "plt.scatter(X,Y)"
      ],
      "metadata": {
        "colab": {
          "base_uri": "https://localhost:8080/",
          "height": 282
        },
        "id": "wAVPjpBdsPFh",
        "outputId": "8fb1e70e-60f4-4b5a-c2f1-fa21190571ce"
      },
      "execution_count": 23,
      "outputs": [
        {
          "output_type": "execute_result",
          "data": {
            "text/plain": [
              "<matplotlib.collections.PathCollection at 0x7f1f7ef3fad0>"
            ]
          },
          "metadata": {},
          "execution_count": 23
        },
        {
          "output_type": "display_data",
          "data": {
            "text/plain": [
              "<Figure size 432x288 with 1 Axes>"
            ],
            "image/png": "[encoded data removed]"
          },
          "metadata": {
            "needs_background": "light"
          }
        }
      ]
    },
    {
      "cell_type": "markdown",
      "source": [
        "Regression Using Python SKlearn"
      ],
      "metadata": {
        "id": "59kZWv7fO5ny"
      }
    },
    {
      "cell_type": "code",
      "source": [
        "model = LinearRegression()\n",
        "model.fit(X,Y)\n",
        "Y_hat = model.predict(X)"
      ],
      "metadata": {
        "id": "5RJJN9mRLB-2"
      },
      "execution_count": 48,
      "outputs": []
    },
    {
      "cell_type": "code",
      "source": [
        "predicted = model.predict(X)\n",
        "model.score(X, Y) # Return the coefficient of determination of the prediction."
      ],
      "metadata": {
        "colab": {
          "base_uri": "https://localhost:8080/"
        },
        "id": "2mMoS3SP3Vbf",
        "outputId": "b82327ec-5375-42a1-a65e-121fa1c8a341"
      },
      "execution_count": 51,
      "outputs": [
        {
          "output_type": "execute_result",
          "data": {
            "text/plain": [
              "0.5934040708882469"
            ]
          },
          "metadata": {},
          "execution_count": 51
        }
      ]
    },
    {
      "cell_type": "code",
      "source": [
        "w = model.coef_\n",
        "b = model.intercept_\n",
        "print(w,b)"
      ],
      "metadata": {
        "colab": {
          "base_uri": "https://localhost:8080/"
        },
        "id": "sXHCW55jLCCa",
        "outputId": "f591dc67-60e1-4ecf-e02d-f731ac01e39a"
      },
      "execution_count": 50,
      "outputs": [
        {
          "output_type": "stream",
          "name": "stdout",
          "text": [
            "[[0.41962926]] [-0.79524602]\n"
          ]
        }
      ]
    },
    {
      "cell_type": "code",
      "source": [
        "# Plot the model graph\n",
        "plt.scatter(X,Y,label=\"Original Data\")\n",
        "plt.plot(X,predicted,label=\"Fitted Line\")\n",
        "plt.legend()\n",
        "plt.show()"
      ],
      "metadata": {
        "colab": {
          "base_uri": "https://localhost:8080/",
          "height": 265
        },
        "id": "yrbe6g7JLCFU",
        "outputId": "ca4dafa5-2ffc-4dfc-c4ce-9fa8bcbd96bd"
      },
      "execution_count": 52,
      "outputs": [
        {
          "output_type": "display_data",
          "data": {
            "text/plain": [
              "<Figure size 432x288 with 1 Axes>"
            ],
            "image/png": "[encoded data removed]"
          },
          "metadata": {
            "needs_background": "light"
          }
        }
      ]
    },
    {
      "cell_type": "markdown",
      "source": [
        "Regression with Pytorch\n",
        "\n",
        "Please Note : PyTorch does not work with NumPy arrays rather it works with Torch Tensors"
      ],
      "metadata": {
        "id": "hjsx2ogcmgvd"
      }
    },
    {
      "cell_type": "code",
      "source": [
        "# Create linear regression model\n",
        "\n",
        "model = nn.Linear(1,1) # 1 input and 1 output model"
      ],
      "metadata": {
        "id": "v0QBmu4MtDIy"
      },
      "execution_count": 24,
      "outputs": []
    },
    {
      "cell_type": "code",
      "source": [
        "# Loss | Cost function | Objective Function\n",
        "criterion = nn.MSELoss()"
      ],
      "metadata": {
        "id": "auQMz_0MmjyS"
      },
      "execution_count": 25,
      "outputs": []
    },
    {
      "cell_type": "code",
      "source": [
        "# Optimizer\n",
        "optimizer = torch.optim.SGD(model.parameters(), lr=0.1)"
      ],
      "metadata": {
        "id": "BH6nnDscmuoa"
      },
      "execution_count": 26,
      "outputs": []
    },
    {
      "cell_type": "code",
      "source": [
        "# We want to ensure our data is in shape (num of samples X num of dimensions)\n",
        "X = X.reshape(N,1)\n",
        "Y = Y.reshape(N,1)"
      ],
      "metadata": {
        "id": "OVGksherxXVF"
      },
      "execution_count": 27,
      "outputs": []
    },
    {
      "cell_type": "code",
      "source": [
        "# PyTorch uses float32 by default while Numpy create flot64 by default \n",
        "# convert Numpy arrays to totch sensors\n",
        "inputs = torch.from_numpy(X.astype(np.float32))\n",
        "targets = torch.from_numpy(Y.astype(np.float32))"
      ],
      "metadata": {
        "id": "s--_HJmLxr58"
      },
      "execution_count": 28,
      "outputs": []
    },
    {
      "cell_type": "code",
      "source": [
        "type(inputs)"
      ],
      "metadata": {
        "colab": {
          "base_uri": "https://localhost:8080/"
        },
        "id": "9AOQIem7yNuJ",
        "outputId": "05ef36a3-1f83-4d87-c042-c060cc87af15"
      },
      "execution_count": 29,
      "outputs": [
        {
          "output_type": "execute_result",
          "data": {
            "text/plain": [
              "torch.Tensor"
            ]
          },
          "metadata": {},
          "execution_count": 29
        }
      ]
    },
    {
      "cell_type": "code",
      "source": [
        "n_epochs = 50\n",
        "losses = []"
      ],
      "metadata": {
        "id": "OY2t1mV5nD_8"
      },
      "execution_count": 35,
      "outputs": []
    },
    {
      "cell_type": "code",
      "source": [
        "for it in range(n_epochs):\n",
        "  # zero the parameter gradients | Internally PyTorch accumulates gradients when we call backward\n",
        "  optimizer.zero_grad()\n",
        "\n",
        "  #Forward pass\n",
        "  outputs = model(inputs) # model is an object of type nn.Linear but we use it like a function\n",
        "  loss = criterion(outputs,targets)\n",
        "\n",
        "  # keep the loss so we can plot later \n",
        "  losses.append(loss.item())\n",
        "\n",
        "  #Backward and optimize\n",
        "  loss.backward() # Calculate gradient\n",
        "  optimizer.step() # gradient step\n",
        "  print(f'Epoch {it + 1}/{n_epochs}, Loss : {loss.item():.4f}')"
      ],
      "metadata": {
        "colab": {
          "base_uri": "https://localhost:8080/"
        },
        "id": "04BeRHQ8nEC_",
        "outputId": "2dacb87c-3a11-443c-a986-68e5d7e64151"
      },
      "execution_count": 36,
      "outputs": [
        {
          "output_type": "stream",
          "name": "stdout",
          "text": [
            "Epoch 1/50, Loss : 1.8811\n",
            "Epoch 2/50, Loss : 1.8383\n",
            "Epoch 3/50, Loss : 1.7980\n",
            "Epoch 4/50, Loss : 1.7602\n",
            "Epoch 5/50, Loss : 1.7246\n",
            "Epoch 6/50, Loss : 1.6913\n",
            "Epoch 7/50, Loss : 1.6599\n",
            "Epoch 8/50, Loss : 1.6305\n",
            "Epoch 9/50, Loss : 1.6029\n",
            "Epoch 10/50, Loss : 1.5769\n",
            "Epoch 11/50, Loss : 1.5525\n",
            "Epoch 12/50, Loss : 1.5296\n",
            "Epoch 13/50, Loss : 1.5081\n",
            "Epoch 14/50, Loss : 1.4879\n",
            "Epoch 15/50, Loss : 1.4689\n",
            "Epoch 16/50, Loss : 1.4511\n",
            "Epoch 17/50, Loss : 1.4343\n",
            "Epoch 18/50, Loss : 1.4186\n",
            "Epoch 19/50, Loss : 1.4038\n",
            "Epoch 20/50, Loss : 1.3900\n",
            "Epoch 21/50, Loss : 1.3769\n",
            "Epoch 22/50, Loss : 1.3647\n",
            "Epoch 23/50, Loss : 1.3532\n",
            "Epoch 24/50, Loss : 1.3424\n",
            "Epoch 25/50, Loss : 1.3323\n",
            "Epoch 26/50, Loss : 1.3227\n",
            "Epoch 27/50, Loss : 1.3138\n",
            "Epoch 28/50, Loss : 1.3054\n",
            "Epoch 29/50, Loss : 1.2975\n",
            "Epoch 30/50, Loss : 1.2901\n",
            "Epoch 31/50, Loss : 1.2831\n",
            "Epoch 32/50, Loss : 1.2766\n",
            "Epoch 33/50, Loss : 1.2704\n",
            "Epoch 34/50, Loss : 1.2647\n",
            "Epoch 35/50, Loss : 1.2592\n",
            "Epoch 36/50, Loss : 1.2542\n",
            "Epoch 37/50, Loss : 1.2494\n",
            "Epoch 38/50, Loss : 1.2449\n",
            "Epoch 39/50, Loss : 1.2407\n",
            "Epoch 40/50, Loss : 1.2367\n",
            "Epoch 41/50, Loss : 1.2330\n",
            "Epoch 42/50, Loss : 1.2295\n",
            "Epoch 43/50, Loss : 1.2262\n",
            "Epoch 44/50, Loss : 1.2231\n",
            "Epoch 45/50, Loss : 1.2202\n",
            "Epoch 46/50, Loss : 1.2175\n",
            "Epoch 47/50, Loss : 1.2150\n",
            "Epoch 48/50, Loss : 1.2126\n",
            "Epoch 49/50, Loss : 1.2103\n",
            "Epoch 50/50, Loss : 1.2082\n"
          ]
        }
      ]
    },
    {
      "cell_type": "code",
      "source": [
        "plt.plot(losses)"
      ],
      "metadata": {
        "colab": {
          "base_uri": "https://localhost:8080/",
          "height": 282
        },
        "id": "aHFm3blVnEJf",
        "outputId": "ff6665a5-62bf-418a-ce0d-a5939c6b37f1"
      },
      "execution_count": 37,
      "outputs": [
        {
          "output_type": "execute_result",
          "data": {
            "text/plain": [
              "[<matplotlib.lines.Line2D at 0x7f1f7e495490>]"
            ]
          },
          "metadata": {},
          "execution_count": 37
        },
        {
          "output_type": "display_data",
          "data": {
            "text/plain": [
              "<Figure size 432x288 with 1 Axes>"
            ],
            "image/png": "[encoded data removed]"
          },
          "metadata": {
            "needs_background": "light"
          }
        }
      ]
    },
    {
      "cell_type": "code",
      "source": [
        "# Plot the graph\n",
        "\n",
        "predicted = model(inputs).detach().numpy()\n",
        "plt.scatter(X,Y, label = 'Original data')\n",
        "plt.plot(X,predicted, label = 'Fitted Line')\n",
        "plt.legend()\n",
        "plt.show()"
      ],
      "metadata": {
        "colab": {
          "base_uri": "https://localhost:8080/",
          "height": 265
        },
        "id": "leEaPeRQ0MdG",
        "outputId": "d33a88ba-bd7c-4bf6-d2b6-eb9761988eaa"
      },
      "execution_count": 38,
      "outputs": [
        {
          "output_type": "display_data",
          "data": {
            "text/plain": [
              "<Figure size 432x288 with 1 Axes>"
            ],
            "image/png": "[encoded data removed]"
          },
          "metadata": {
            "needs_background": "light"
          }
        }
      ]
    },
    {
      "cell_type": "code",
      "source": [
        "type(predicted)"
      ],
      "metadata": {
        "colab": {
          "base_uri": "https://localhost:8080/"
        },
        "id": "80lqe1u40rfT",
        "outputId": "16351fb7-3c80-4e41-c907-7e09c175a62d"
      },
      "execution_count": 39,
      "outputs": [
        {
          "output_type": "execute_result",
          "data": {
            "text/plain": [
              "numpy.ndarray"
            ]
          },
          "metadata": {},
          "execution_count": 39
        }
      ]
    },
    {
      "cell_type": "code",
      "source": [
        "predicted[1:4]"
      ],
      "metadata": {
        "colab": {
          "base_uri": "https://localhost:8080/"
        },
        "id": "mldrzK7d0uJb",
        "outputId": "64aac3be-c8d3-4370-9ba0-d438178270a2"
      },
      "execution_count": 41,
      "outputs": [
        {
          "output_type": "execute_result",
          "data": {
            "text/plain": [
              "array([[ 1.4429489 ],\n",
              "       [-3.0602007 ],\n",
              "       [ 0.08651328]], dtype=float32)"
            ]
          },
          "metadata": {},
          "execution_count": 41
        }
      ]
    },
    {
      "cell_type": "code",
      "source": [
        "# Alternative way to plot model output graph without detach\n",
        "\n",
        "with torch.no_grad():\n",
        "  out = model(inputs).numpy()\n",
        "  plt.scatter(X,Y, label = 'Original data')\n",
        "  plt.plot(X,out, label = 'Fitted Line')\n",
        "  plt.legend()\n",
        "  plt.show()"
      ],
      "metadata": {
        "colab": {
          "base_uri": "https://localhost:8080/",
          "height": 265
        },
        "id": "yuNLG8lL1nKn",
        "outputId": "ac499924-4a79-47ac-e2e9-2e7e2e5a0b8c"
      },
      "execution_count": 43,
      "outputs": [
        {
          "output_type": "display_data",
          "data": {
            "text/plain": [
              "<Figure size 432x288 with 1 Axes>"
            ],
            "image/png": "[encoded data removed]"
          },
          "metadata": {
            "needs_background": "light"
          }
        }
      ]
    },
    {
      "cell_type": "markdown",
      "source": [
        "Inspect Model Weights and Bias"
      ],
      "metadata": {
        "id": "bDo4x7592OpN"
      }
    },
    {
      "cell_type": "code",
      "source": [
        "w = model.weight.data.numpy()\n",
        "b = model.bias.data.numpy()\n",
        "print(w,b)"
      ],
      "metadata": {
        "colab": {
          "base_uri": "https://localhost:8080/"
        },
        "id": "JsJZmGUQ2OSt",
        "outputId": "b23dfe6f-b243-413a-f71d-10673a122256"
      },
      "execution_count": 45,
      "outputs": [
        {
          "output_type": "stream",
          "name": "stdout",
          "text": [
            "[[0.47545737]] [-0.7933248]\n"
          ]
        }
      ]
    }
  ]
}