{
  "nbformat": 4,
  "nbformat_minor": 0,
  "metadata": {
    "colab": {
      "name": "PyTorch-Regression-Moores Law.ipynb",
      "provenance": [],
      "collapsed_sections": [],
      "authorship_tag": "ABX9TyMnB3PYuDepj0115c4Jsvzm",
      "include_colab_link": true
    },
    "kernelspec": {
      "name": "python3",
      "display_name": "Python 3"
    },
    "language_info": {
      "name": "python"
    }
  },
  "cells": [
    {
      "cell_type": "markdown",
      "metadata": {
        "id": "view-in-github",
        "colab_type": "text"
      },
      "source": [
        "<a href=\"https://colab.research.google.com/github/zydusss/PyTorch/blob/main/PyTorch_Regression_Moores_Law.ipynb\" target=\"_parent\"><img src=\"https://colab.research.google.com/assets/colab-badge.svg\" alt=\"Open In Colab\"/></a>"
      ]
    },
    {
      "cell_type": "code",
      "execution_count": 8,
      "metadata": {
        "id": "8kEXGhQ24yov"
      },
      "outputs": [],
      "source": [
        "import torch\n",
        "import torch.nn as nn\n",
        "import matplotlib.pyplot as plt\n",
        "import numpy as np\n",
        "import pandas as pd"
      ]
    },
    {
      "cell_type": "code",
      "source": [
        "from google.colab import drive\n",
        "drive.mount('/content/drive')"
      ],
      "metadata": {
        "id": "7rGOQl12iAoI",
        "colab": {
          "base_uri": "https://localhost:8080/"
        },
        "outputId": "a849ade7-1415-4ddf-979b-aebc857f84f1"
      },
      "execution_count": 4,
      "outputs": [
        {
          "output_type": "stream",
          "name": "stdout",
          "text": [
            "Mounted at /content/drive\n"
          ]
        }
      ]
    },
    {
      "cell_type": "code",
      "source": [
        "data = pd.read_csv('/content/drive/MyDrive/datasets/PyTorchPractice/moore.csv',header=None).values\n",
        "data[0:3]"
      ],
      "metadata": {
        "id": "6rv8B2j5iArC",
        "colab": {
          "base_uri": "https://localhost:8080/"
        },
        "outputId": "c069b110-0128-4d45-8c4d-33e67b67fe5d"
      },
      "execution_count": 14,
      "outputs": [
        {
          "output_type": "execute_result",
          "data": {
            "text/plain": [
              "array([[1971, 2300],\n",
              "       [1972, 3500],\n",
              "       [1973, 2500]])"
            ]
          },
          "metadata": {},
          "execution_count": 14
        }
      ]
    },
    {
      "cell_type": "code",
      "source": [
        "X = data[:,0].reshape(-1,1) # Make it 2D array of size NXD\n",
        "Y = data[:,1].reshape(-1,1)"
      ],
      "metadata": {
        "id": "J1BhJU5yj3YK"
      },
      "execution_count": 16,
      "outputs": []
    },
    {
      "cell_type": "code",
      "source": [
        "plt.scatter(X,Y)"
      ],
      "metadata": {
        "id": "x-gY3yu1iAtS",
        "colab": {
          "base_uri": "https://localhost:8080/",
          "height": 293
        },
        "outputId": "0049e22b-4a8b-4790-f467-3acc5a80b821"
      },
      "execution_count": 17,
      "outputs": [
        {
          "output_type": "execute_result",
          "data": {
            "text/plain": [
              "<matplotlib.collections.PathCollection at 0x7ff421872cd0>"
            ]
          },
          "metadata": {},
          "execution_count": 17
        },
        {
          "output_type": "display_data",
          "data": {
            "text/plain": [
              "<Figure size 432x288 with 1 Axes>"
            ],
            "image/png": "[encoded data removed]"
          },
          "metadata": {
            "needs_background": "light"
          }
        }
      ]
    },
    {
      "cell_type": "code",
      "source": [
        "Y = np.log(Y)\n",
        "plt.scatter(X,Y)"
      ],
      "metadata": {
        "colab": {
          "base_uri": "https://localhost:8080/",
          "height": 282
        },
        "id": "SGoXM88TkNHS",
        "outputId": "e02b2552-1021-4c93-a142-22c944468dce"
      },
      "execution_count": 18,
      "outputs": [
        {
          "output_type": "execute_result",
          "data": {
            "text/plain": [
              "<matplotlib.collections.PathCollection at 0x7ff42118c9d0>"
            ]
          },
          "metadata": {},
          "execution_count": 18
        },
        {
          "output_type": "display_data",
          "data": {
            "text/plain": [
              "<Figure size 432x288 with 1 Axes>"
            ],
            "image/png": "[encoded data removed]"
          },
          "metadata": {
            "needs_background": "light"
          }
        }
      ]
    },
    {
      "cell_type": "code",
      "source": [
        "mX = X.mean()\n",
        "mY = Y.mean()\n",
        "sX = X.std()\n",
        "sY = Y.std()\n",
        "\n",
        "# Normalize X and Y\n",
        "X = ( X - mX ) / sX\n",
        "Y = ( Y - mY ) / sY"
      ],
      "metadata": {
        "id": "RvYc1152kYta"
      },
      "execution_count": 19,
      "outputs": []
    },
    {
      "cell_type": "code",
      "source": [
        "plt.scatter(X,Y)"
      ],
      "metadata": {
        "colab": {
          "base_uri": "https://localhost:8080/",
          "height": 282
        },
        "id": "63DslQxqmwuK",
        "outputId": "9359bded-bfae-442d-838f-0b894aaca8a5"
      },
      "execution_count": 20,
      "outputs": [
        {
          "output_type": "execute_result",
          "data": {
            "text/plain": [
              "<matplotlib.collections.PathCollection at 0x7ff4210a5050>"
            ]
          },
          "metadata": {},
          "execution_count": 20
        },
        {
          "output_type": "display_data",
          "data": {
            "text/plain": [
              "<Figure size 432x288 with 1 Axes>"
            ],
            "image/png": "[encoded data removed]"
          },
          "metadata": {
            "needs_background": "light"
          }
        }
      ]
    },
    {
      "cell_type": "code",
      "source": [
        "X = X.astype(np.float32)\n",
        "Y = Y.astype(np.float32)"
      ],
      "metadata": {
        "id": "lqCuacTfm05q"
      },
      "execution_count": 22,
      "outputs": []
    },
    {
      "cell_type": "code",
      "source": [
        "model = nn.Linear(1,1)"
      ],
      "metadata": {
        "id": "RI8d7aImqubr"
      },
      "execution_count": 23,
      "outputs": []
    },
    {
      "cell_type": "code",
      "source": [
        "criterion = nn.MSELoss()\n",
        "optimiser = torch.optim.SGD(model.parameters(),lr=0.01, momentum=0.7)"
      ],
      "metadata": {
        "id": "NkekeUmCquez"
      },
      "execution_count": 24,
      "outputs": []
    },
    {
      "cell_type": "code",
      "source": [
        "inputs = torch.from_numpy(X)\n",
        "targets = torch.from_numpy(Y)"
      ],
      "metadata": {
        "id": "jAXBD8ecrO4s"
      },
      "execution_count": 27,
      "outputs": []
    },
    {
      "cell_type": "code",
      "source": [
        "type(inputs)"
      ],
      "metadata": {
        "colab": {
          "base_uri": "https://localhost:8080/"
        },
        "id": "Rwhgf7sDr5fs",
        "outputId": "aab8a0bb-577b-4ad6-f24a-9fd482995131"
      },
      "execution_count": 28,
      "outputs": [
        {
          "output_type": "execute_result",
          "data": {
            "text/plain": [
              "torch.Tensor"
            ]
          },
          "metadata": {},
          "execution_count": 28
        }
      ]
    },
    {
      "cell_type": "code",
      "source": [
        "from torch.optim import optimizer\n",
        "n_epochs = 30\n",
        "losses = []\n",
        "for it in range(n_epochs):\n",
        "  # zero the parameter gradients\n",
        "  optimiser.zero_grad()\n",
        "  # Forward pass\n",
        "  outputs = model(inputs)\n",
        "  loss = criterion(outputs,targets)\n",
        "  # Record the loss\n",
        "  losses.append(loss.item())\n",
        "  # backward and optimise\n",
        "  loss.backward()\n",
        "  optimiser.step()\n",
        "  print(f'Epoch {it+1}/{n_epochs}, Loss: {loss.item():.4f}')"
      ],
      "metadata": {
        "colab": {
          "base_uri": "https://localhost:8080/"
        },
        "id": "Cn5uw7T4r9kB",
        "outputId": "c223568c-d03a-4cbc-a126-22158bc73b3f"
      },
      "execution_count": 32,
      "outputs": [
        {
          "output_type": "stream",
          "name": "stdout",
          "text": [
            "Epoch 1/30, Loss: 0.4514\n",
            "Epoch 2/30, Loss: 0.4152\n",
            "Epoch 3/30, Loss: 0.3764\n",
            "Epoch 4/30, Loss: 0.3377\n",
            "Epoch 5/30, Loss: 0.3006\n",
            "Epoch 6/30, Loss: 0.2663\n",
            "Epoch 7/30, Loss: 0.2351\n",
            "Epoch 8/30, Loss: 0.2073\n",
            "Epoch 9/30, Loss: 0.1828\n",
            "Epoch 10/30, Loss: 0.1614\n",
            "Epoch 11/30, Loss: 0.1428\n",
            "Epoch 12/30, Loss: 0.1269\n",
            "Epoch 13/30, Loss: 0.1132\n",
            "Epoch 14/30, Loss: 0.1015\n",
            "Epoch 15/30, Loss: 0.0916\n",
            "Epoch 16/30, Loss: 0.0832\n",
            "Epoch 17/30, Loss: 0.0761\n",
            "Epoch 18/30, Loss: 0.0701\n",
            "Epoch 19/30, Loss: 0.0650\n",
            "Epoch 20/30, Loss: 0.0608\n",
            "Epoch 21/30, Loss: 0.0572\n",
            "Epoch 22/30, Loss: 0.0542\n",
            "Epoch 23/30, Loss: 0.0516\n",
            "Epoch 24/30, Loss: 0.0495\n",
            "Epoch 25/30, Loss: 0.0477\n",
            "Epoch 26/30, Loss: 0.0462\n",
            "Epoch 27/30, Loss: 0.0450\n",
            "Epoch 28/30, Loss: 0.0439\n",
            "Epoch 29/30, Loss: 0.0430\n",
            "Epoch 30/30, Loss: 0.0423\n"
          ]
        }
      ]
    },
    {
      "cell_type": "code",
      "source": [
        "plt.plot(losses)"
      ],
      "metadata": {
        "colab": {
          "base_uri": "https://localhost:8080/",
          "height": 282
        },
        "id": "ofTtyj805SbG",
        "outputId": "db3242bd-75b7-45b0-d986-9bed4604dbec"
      },
      "execution_count": 33,
      "outputs": [
        {
          "output_type": "execute_result",
          "data": {
            "text/plain": [
              "[<matplotlib.lines.Line2D at 0x7ff420dfdb90>]"
            ]
          },
          "metadata": {},
          "execution_count": 33
        },
        {
          "output_type": "display_data",
          "data": {
            "text/plain": [
              "<Figure size 432x288 with 1 Axes>"
            ],
            "image/png": "[encoded data removed]"
          },
          "metadata": {
            "needs_background": "light"
          }
        }
      ]
    },
    {
      "cell_type": "code",
      "source": [
        "# Plot the model graph\n",
        "predicted = model(torch.from_numpy(X)).detach().numpy()\n",
        "plt.plot(X,Y,'ro',label = 'Original data')\n",
        "plt.plot(X,predicted,label='Fitted line')\n",
        "plt.legend()\n",
        "plt.show()"
      ],
      "metadata": {
        "colab": {
          "base_uri": "https://localhost:8080/",
          "height": 265
        },
        "id": "SVYMna0p5VbN",
        "outputId": "ed134a15-fc8f-440e-ae6e-3fac7fe28207"
      },
      "execution_count": 38,
      "outputs": [
        {
          "output_type": "display_data",
          "data": {
            "text/plain": [
              "<Figure size 432x288 with 1 Axes>"
            ],
            "image/png": "[encoded data removed]"
          },
          "metadata": {
            "needs_background": "light"
          }
        }
      ]
    },
    {
      "cell_type": "code",
      "source": [
        ""
      ],
      "metadata": {
        "id": "ualcq03n5Vd8"
      },
      "execution_count": null,
      "outputs": []
    },
    {
      "cell_type": "code",
      "source": [
        ""
      ],
      "metadata": {
        "id": "Nx4JUvAEr5ic"
      },
      "execution_count": null,
      "outputs": []
    },
    {
      "cell_type": "code",
      "source": [
        ""
      ],
      "metadata": {
        "id": "4TmxIZvPr5lD"
      },
      "execution_count": null,
      "outputs": []
    }
  ]
}